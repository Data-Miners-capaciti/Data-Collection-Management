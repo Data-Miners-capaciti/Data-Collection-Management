{
  "metadata": {
    "kernelspec": {
      "name": "python",
      "display_name": "Python (Pyodide)",
      "language": "python"
    },
    "language_info": {
      "codemirror_mode": {
        "name": "python",
        "version": 3
      },
      "file_extension": ".py",
      "mimetype": "text/x-python",
      "name": "python",
      "nbconvert_exporter": "python",
      "pygments_lexer": "ipython3",
      "version": "3.8"
    }
  },
  "nbformat_minor": 5,
  "nbformat": 4,
  "cells": [
    {
      "id": "f1a837b3-28ca-4a16-901c-aeb8015db8c1",
      "cell_type": "code",
      "source": "#importing the library\n#pandas is used for data analysis and data manipulation\n\n\nimport pandas as pd",
      "metadata": {
        "trusted": true
      },
      "outputs": [],
      "execution_count": 1
    },
    {
      "id": "b01f17df-8613-4487-b9f2-dfbb0eb60aec",
      "cell_type": "code",
      "source": "#reads the csv\n\nfile_path = \"Week-2-Sales-Data.csv\"\ndf = pd.read_csv(file_path)",
      "metadata": {
        "trusted": true
      },
      "outputs": [],
      "execution_count": 15
    },
    {
      "id": "2df2f11e-5bc4-47bc-8774-92b39324129d",
      "cell_type": "code",
      "source": "# Preview dataset and the first 5 rows\n\nprint(\"First 5 rows of dataset:\")\ndisplay(df.head())",
      "metadata": {
        "trusted": true
      },
      "outputs": [
        {
          "name": "stdout",
          "output_type": "stream",
          "text": "First 5 rows of dataset:\n"
        },
        {
          "output_type": "display_data",
          "data": {
            "text/plain": "  Order_ID              Product         Region  Units_Sold  Unit_Price  \\\n0   ORD001              Printer        Limpopo          45        2985   \n1   ORD002           Headphones   Western Cape          16       15076   \n2   ORD003               Laptop   Western Cape          45       14860   \n3   ORD004  External Hard Drive  KwaZulu-Natal          21       16237   \n4   ORD005           Smartphone   Western Cape          41        9420   \n\n   Revenue Sales_Rep  Order_Date  \n0   134325     Rep-2  2024-03-28  \n1   241216    Rep-18  2024-04-11  \n2   668700    Rep-16  2024-05-18  \n3   340977     Rep-3  2024-05-16  \n4   386220    Rep-17  2024-02-21  ",
            "text/html": "<div>\n<style scoped>\n    .dataframe tbody tr th:only-of-type {\n        vertical-align: middle;\n    }\n\n    .dataframe tbody tr th {\n        vertical-align: top;\n    }\n\n    .dataframe thead th {\n        text-align: right;\n    }\n</style>\n<table border=\"1\" class=\"dataframe\">\n  <thead>\n    <tr style=\"text-align: right;\">\n      <th></th>\n      <th>Order_ID</th>\n      <th>Product</th>\n      <th>Region</th>\n      <th>Units_Sold</th>\n      <th>Unit_Price</th>\n      <th>Revenue</th>\n      <th>Sales_Rep</th>\n      <th>Order_Date</th>\n    </tr>\n  </thead>\n  <tbody>\n    <tr>\n      <th>0</th>\n      <td>ORD001</td>\n      <td>Printer</td>\n      <td>Limpopo</td>\n      <td>45</td>\n      <td>2985</td>\n      <td>134325</td>\n      <td>Rep-2</td>\n      <td>2024-03-28</td>\n    </tr>\n    <tr>\n      <th>1</th>\n      <td>ORD002</td>\n      <td>Headphones</td>\n      <td>Western Cape</td>\n      <td>16</td>\n      <td>15076</td>\n      <td>241216</td>\n      <td>Rep-18</td>\n      <td>2024-04-11</td>\n    </tr>\n    <tr>\n      <th>2</th>\n      <td>ORD003</td>\n      <td>Laptop</td>\n      <td>Western Cape</td>\n      <td>45</td>\n      <td>14860</td>\n      <td>668700</td>\n      <td>Rep-16</td>\n      <td>2024-05-18</td>\n    </tr>\n    <tr>\n      <th>3</th>\n      <td>ORD004</td>\n      <td>External Hard Drive</td>\n      <td>KwaZulu-Natal</td>\n      <td>21</td>\n      <td>16237</td>\n      <td>340977</td>\n      <td>Rep-3</td>\n      <td>2024-05-16</td>\n    </tr>\n    <tr>\n      <th>4</th>\n      <td>ORD005</td>\n      <td>Smartphone</td>\n      <td>Western Cape</td>\n      <td>41</td>\n      <td>9420</td>\n      <td>386220</td>\n      <td>Rep-17</td>\n      <td>2024-02-21</td>\n    </tr>\n  </tbody>\n</table>\n</div>"
          },
          "metadata": {}
        }
      ],
      "execution_count": 16
    },
    {
      "id": "e9697db4-c089-4e73-ab72-2d20e1567637",
      "cell_type": "code",
      "source": "# Check for missing values\n\n\nprint(\"\\nMissing values in each column:\")\nprint(df.isnull().sum())",
      "metadata": {
        "trusted": true
      },
      "outputs": [
        {
          "name": "stdout",
          "output_type": "stream",
          "text": "\nMissing values in each column:\nOrder_ID      0\nProduct       0\nRegion        0\nUnits_Sold    0\nUnit_Price    0\nRevenue       0\nSales_Rep     0\nOrder_Date    0\ndtype: int64\n"
        }
      ],
      "execution_count": 17
    },
    {
      "id": "c1457ccc-ad91-4df3-a19a-12e63432ff12",
      "cell_type": "code",
      "source": "# Check for duplicates\n\nprint(\"\\nNumber of duplicate rows:\", df.duplicated().sum())",
      "metadata": {
        "trusted": true
      },
      "outputs": [
        {
          "name": "stdout",
          "output_type": "stream",
          "text": "\nNumber of duplicate rows: 0\n"
        }
      ],
      "execution_count": 18
    },
    {
      "id": "a9c069bc-c0d6-4417-8692-53c8b914a890",
      "cell_type": "code",
      "source": "#  Check data types\n\nprint(\"\\nData types of columns:\")\nprint(df.dtypes)",
      "metadata": {
        "trusted": true
      },
      "outputs": [
        {
          "name": "stdout",
          "output_type": "stream",
          "text": "\nData types of columns:\nOrder_ID      object\nProduct       object\nRegion        object\nUnits_Sold     int64\nUnit_Price     int64\nRevenue        int64\nSales_Rep     object\nOrder_Date    object\ndtype: object\n"
        }
      ],
      "execution_count": 19
    },
    {
      "id": "c7dc9b42-2ba6-46b0-a551-d4daaf85ddd9",
      "cell_type": "code",
      "source": "# Clean the dataset\n# Remove duplicate rows by dropping rows\ndf = df.drop_duplicates()\n\n# Handle missing values\n# Option 1: Drop missing values\n# df = df.dropna()\n\n#  Fill missing values (example: fill with mean for numeric columns)\ndf = df.fillna({\n    'Quantity': df['Quantity'].mean() if 'Quantity' in df.columns else None,\n    'Price': df['Price'].mean() if 'Price' in df.columns else None\n})\n\n",
      "metadata": {
        "trusted": true
      },
      "outputs": [],
      "execution_count": 20
    },
    {
      "id": "e7a71805-3458-44fe-863d-1a10659c5cac",
      "cell_type": "code",
      "source": "#  Convert Order_Date to datetime format\nif 'Order_Date' in df.columns:\n    df['Order_Date'] = pd.to_datetime(df['Order_Date'], errors='coerce')\n\n#  Final check after cleaning\nprint(\"\\nAfter cleaning:\")\nprint(\"Missing values:\", df.isnull().sum().sum())\nprint(\"Duplicates:\", df.duplicated().sum())\nprint(\"Data types:\\n\", df.dtypes)\n\n#  Display cleaned dataset\ndisplay(df.head())",
      "metadata": {
        "trusted": true
      },
      "outputs": [
        {
          "name": "stdout",
          "output_type": "stream",
          "text": "\nAfter cleaning:\nMissing values: 0\nDuplicates: 0\nData types:\n Order_ID              object\nProduct               object\nRegion                object\nUnits_Sold             int64\nUnit_Price             int64\nRevenue                int64\nSales_Rep             object\nOrder_Date    datetime64[ns]\ndtype: object\n"
        },
        {
          "output_type": "display_data",
          "data": {
            "text/plain": "  Order_ID              Product         Region  Units_Sold  Unit_Price  \\\n0   ORD001              Printer        Limpopo          45        2985   \n1   ORD002           Headphones   Western Cape          16       15076   \n2   ORD003               Laptop   Western Cape          45       14860   \n3   ORD004  External Hard Drive  KwaZulu-Natal          21       16237   \n4   ORD005           Smartphone   Western Cape          41        9420   \n\n   Revenue Sales_Rep Order_Date  \n0   134325     Rep-2 2024-03-28  \n1   241216    Rep-18 2024-04-11  \n2   668700    Rep-16 2024-05-18  \n3   340977     Rep-3 2024-05-16  \n4   386220    Rep-17 2024-02-21  ",
            "text/html": "<div>\n<style scoped>\n    .dataframe tbody tr th:only-of-type {\n        vertical-align: middle;\n    }\n\n    .dataframe tbody tr th {\n        vertical-align: top;\n    }\n\n    .dataframe thead th {\n        text-align: right;\n    }\n</style>\n<table border=\"1\" class=\"dataframe\">\n  <thead>\n    <tr style=\"text-align: right;\">\n      <th></th>\n      <th>Order_ID</th>\n      <th>Product</th>\n      <th>Region</th>\n      <th>Units_Sold</th>\n      <th>Unit_Price</th>\n      <th>Revenue</th>\n      <th>Sales_Rep</th>\n      <th>Order_Date</th>\n    </tr>\n  </thead>\n  <tbody>\n    <tr>\n      <th>0</th>\n      <td>ORD001</td>\n      <td>Printer</td>\n      <td>Limpopo</td>\n      <td>45</td>\n      <td>2985</td>\n      <td>134325</td>\n      <td>Rep-2</td>\n      <td>2024-03-28</td>\n    </tr>\n    <tr>\n      <th>1</th>\n      <td>ORD002</td>\n      <td>Headphones</td>\n      <td>Western Cape</td>\n      <td>16</td>\n      <td>15076</td>\n      <td>241216</td>\n      <td>Rep-18</td>\n      <td>2024-04-11</td>\n    </tr>\n    <tr>\n      <th>2</th>\n      <td>ORD003</td>\n      <td>Laptop</td>\n      <td>Western Cape</td>\n      <td>45</td>\n      <td>14860</td>\n      <td>668700</td>\n      <td>Rep-16</td>\n      <td>2024-05-18</td>\n    </tr>\n    <tr>\n      <th>3</th>\n      <td>ORD004</td>\n      <td>External Hard Drive</td>\n      <td>KwaZulu-Natal</td>\n      <td>21</td>\n      <td>16237</td>\n      <td>340977</td>\n      <td>Rep-3</td>\n      <td>2024-05-16</td>\n    </tr>\n    <tr>\n      <th>4</th>\n      <td>ORD005</td>\n      <td>Smartphone</td>\n      <td>Western Cape</td>\n      <td>41</td>\n      <td>9420</td>\n      <td>386220</td>\n      <td>Rep-17</td>\n      <td>2024-02-21</td>\n    </tr>\n  </tbody>\n</table>\n</div>"
          },
          "metadata": {}
        }
      ],
      "execution_count": 21
    },
    {
      "id": "3cff12ff-1d15-425f-a02c-1e036fee71be",
      "cell_type": "code",
      "source": "",
      "metadata": {
        "trusted": true
      },
      "outputs": [],
      "execution_count": null
    },
    {
      "id": "90ad65b5-3d0f-427a-ad3f-dd5fe7717ece",
      "cell_type": "code",
      "source": "\n#4. Calculate Key Performance Indicators (KPIs)\n\n\nimport pandas as pd\n\n# Load dataset\nfile_path = \"Week-2-Sales-Data.csv\"\ndf = pd.read_csv(file_path)\n\n# --- KPI Calculations ---\n\n# a) Total revenue for the entire dataset\ntotal_revenue = df['Revenue'].sum()\nprint(\"a) Total Revenue:\", total_revenue)\n\n# b) Average units sold per order\navg_units_per_order = df['Units_Sold'].mean()\nprint(\"b) Average Units Sold per Order:\", avg_units_per_order)\n\n# c) Total revenue per region\nrevenue_per_region = df.groupby('Region')['Revenue'].sum()\nprint(\"\\nc) Total Revenue per Region:\")\nprint(revenue_per_region)\n\n# d) Highest revenue-generating sales representative\ntop_sales_rep = df.groupby('Sales_Rep')['Revenue'].sum().idxmax()\ntop_sales_rep_revenue = df.groupby('Sales_Rep')['Revenue'].sum().max()\nprint(\"\\nd) Highest Revenue Sales Rep:\", top_sales_rep, \"with Revenue:\", top_sales_rep_revenue)\n\n# e) Top 3 products by total units sold\ntop_products = df.groupby('Product')['Units_Sold'].sum().nlargest(3)\nprint(\"\\ne) Top 3 Products by Units Sold:\")\nprint(top_products)\n",
      "metadata": {
        "trusted": true
      },
      "outputs": [
        {
          "name": "stdout",
          "output_type": "stream",
          "text": "a) Total Revenue: 35295338\nb) Average Units Sold per Order: 28.23\n\nc) Total Revenue per Region:\nRegion\nEastern Cape     2981638\nFree State       3359398\nGauteng          6231531\nKwaZulu-Natal    3560630\nLimpopo          3614655\nNorth West       6201288\nWestern Cape     9346198\nName: Revenue, dtype: int64\n\nd) Highest Revenue Sales Rep: Rep-19 with Revenue: 2889294\n\ne) Top 3 Products by Units Sold:\nProduct\nSmartwatch    542\nTablet        511\nSmartphone    437\nName: Units_Sold, dtype: int64\n"
        }
      ],
      "execution_count": 25
    },
    {
      "id": "dc87ab12-b648-45b0-bdfd-96285d359879",
      "cell_type": "code",
      "source": "",
      "metadata": {
        "trusted": true
      },
      "outputs": [],
      "execution_count": null
    }
  ]
}